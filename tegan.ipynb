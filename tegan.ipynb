{
 "cells": [
  {
   "cell_type": "markdown",
   "metadata": {},
   "source": [
    "# Project Brief: Top Trumps \n",
    "1. You are given a random card with different stats\n",
    "2. You select one of the card's stats\n",
    "3. Another random card is selected for your opponent (the computer)\n",
    "4. The stats of the two cards are compared\n",
    "5. The player with the stat higher than their opponent wins\n",
    "\n",
    "## Required Tasks\n",
    "1. Generate a random number between 1 and 151 to use as pokemon ID number\n",
    "2. Using pokemon API to get a pokemon based on its ID number \n",
    "3. Create a dictionary that contains the returned Pokemon's name, id, height and weight (https://pokeapi.co/)\n",
    "4. Get a random Pokemon for the player and another for their opponent\n",
    "5. Ask the user which stat they want to use (id,height or weight)\n",
    "6. Compare the player's and opponent's Pokemon on the chosen stats to decide who wins."
   ]
  },
  {
   "cell_type": "code",
   "execution_count": 36,
   "metadata": {},
   "outputs": [],
   "source": [
    "# importing the random module\n",
    "import random\n",
    "import requests\n",
    "from pprint import pprint\n",
    "\n",
    "\n",
    "#generate random number\n",
    "pokemon_number = random.randint(1,151)\n",
    "\n",
    "#get url \n",
    "url = f\"https://pokeapi.co/api/v2/pokemon/{pokemon_number}/\"\n",
    "response = requests.get(url)\n",
    "\n",
    "#store the json\n",
    "pokemon = response.json()\n",
    "headers = pokemon.keys()\n",
    "\n",
    "#keys you want, slay\n",
    "keys = ['name','height','id','weight']\n",
    "\n",
    "#new dictionary\n",
    "player_info = dict()\n",
    "\n",
    "for key in keys:\n",
    "    player_info[key] = pokemon[key]\n",
    "    \n",
    "    \n",
    "def opponent_pokemon():\n",
    "    \n",
    "    #get opponent number\n",
    "    pokemon_number = random.randint(1,151)\n",
    "    \n",
    "    #get url \n",
    "    url = f\"https://pokeapi.co/api/v2/pokemon/{pokemon_number}/\"\n",
    "    response = requests.get(url)\n",
    "    \n",
    "    #store the json\n",
    "    pokemon = response.json()\n",
    "    headers = pokemon.keys()\n",
    "\n",
    "    #keys you want, slay\n",
    "    keys = ['name','height','id','weight']\n",
    "\n",
    "    #new dictionary\n",
    "    key_info = dict()\n",
    "\n",
    "    for key in keys:\n",
    "        key_info[key] = pokemon[key]\n",
    "        \n",
    "    return key_info\n",
    "\n",
    "\n"
   ]
  },
  {
   "cell_type": "code",
   "execution_count": 41,
   "metadata": {},
   "outputs": [],
   "source": [
    "def compare_stat(P1,P2,comparison):\n",
    "    \n",
    "    if comparison == \"height\":\n",
    "        if P1[\"height\"] > P2[\"height\"]:\n",
    "            print(f\"{P1['name']} is taller than {P2['name']}\")\n",
    "        else: \n",
    "            print(f\"{P2['name']} is taller than {P1['name']}\")\n",
    "    elif comparison == 'weight':\n",
    "        if P1[\"weight\"] > P2[\"weight\"]:\n",
    "            print(f\"{P1['name']} is heavier than {P2['name']}\")\n",
    "        else: \n",
    "            print(f\"{P2['name']} is heavier than {P1['name']}\")"
   ]
  },
  {
   "cell_type": "code",
   "execution_count": 38,
   "metadata": {},
   "outputs": [
    {
     "name": "stdout",
     "output_type": "stream",
     "text": [
      "ekans is taller than grimer\n"
     ]
    }
   ],
   "source": [
    "compare_stat(player_info,opponent_pokemon(),'height')"
   ]
  },
  {
   "cell_type": "code",
   "execution_count": 55,
   "metadata": {},
   "outputs": [
    {
     "name": "stdout",
     "output_type": "stream",
     "text": [
      "kabutops is heavier than nidorina\n"
     ]
    }
   ],
   "source": [
    "you = opponent_pokemon()\n",
    "opponent = opponent_pokemon()\n",
    "\n",
    "compare_stat(you,opponent,'weight')"
   ]
  }
 ],
 "metadata": {
  "kernelspec": {
   "display_name": "Python 3.10.8 64-bit",
   "language": "python",
   "name": "python3"
  },
  "language_info": {
   "codemirror_mode": {
    "name": "ipython",
    "version": 3
   },
   "file_extension": ".py",
   "mimetype": "text/x-python",
   "name": "python",
   "nbconvert_exporter": "python",
   "pygments_lexer": "ipython3",
   "version": "3.10.8"
  },
  "orig_nbformat": 4,
  "vscode": {
   "interpreter": {
    "hash": "aee8b7b246df8f9039afb4144a1f6fd8d2ca17a180786b69acc140d282b71a49"
   }
  }
 },
 "nbformat": 4,
 "nbformat_minor": 2
}
